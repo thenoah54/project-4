{
 "cells": [
  {
   "cell_type": "code",
   "execution_count": 1,
   "metadata": {},
   "outputs": [
    {
     "ename": "ModuleNotFoundError",
     "evalue": "No module named 'Final_Project04'",
     "output_type": "error",
     "traceback": [
      "\u001b[1;31m---------------------------------------------------------------------------\u001b[0m",
      "\u001b[1;31mModuleNotFoundError\u001b[0m                       Traceback (most recent call last)",
      "Cell \u001b[1;32mIn[1], line 2\u001b[0m\n\u001b[0;32m      1\u001b[0m \u001b[38;5;28;01mimport\u001b[39;00m \u001b[38;5;21;01mcustomtkinter\u001b[39;00m\n\u001b[1;32m----> 2\u001b[0m \u001b[38;5;28;01mfrom\u001b[39;00m \u001b[38;5;21;01mFinal_Project04\u001b[39;00m \u001b[38;5;28;01mimport\u001b[39;00m Snippet\n",
      "\u001b[1;31mModuleNotFoundError\u001b[0m: No module named 'Final_Project04'"
     ]
    }
   ],
   "source": [
    "import customtkinter\n",
    "import Final_Project04"
   ]
  },
  {
   "cell_type": "code",
   "execution_count": null,
   "metadata": {},
   "outputs": [],
   "source": [
    "def display_whole_note(self, note): \n",
    "    '''\n",
    "    This method allows the note and all of its contents to be displayed to the user when the user clicks on a note in the notebook.\n",
    "    It works by on the click of the note button, a top level window is created.\n",
    "    This will present the user with the title, text, link, tags, and metadata of the note they choose to click on.\n",
    "    By using the lambda n=note when we call this method, it passes the specific notebook object to this display_whole_note \n",
    "    function to make sure that the correct notebook object is being presented to the user when this method is called. \n",
    "    '''\n",
    "    note_window = customtkinter.CTkToplevel(self) # create top level window\n",
    "    note_window.geometry(\"2300+500\") # set dimensions \n",
    "    note_window.title(\"Note Details\") # set title\n",
    "    \n",
    "    snippet_instance = Snippet(self.notes, self.notebook, note)\n",
    "            \n",
    "    customtkinter.CTkLabel(note_window, text = f\"Title: {note.note_title}\", height = 10, wraplength = 500).grid(padx = 5, pady = 5, row = 0, column = 0) # presents note title to user\n",
    "    customtkinter.CTkLabel(note_window, text = f\"Text: {note.note_text}\", width=100, wraplength = 500).grid(padx = 5, pady = 5, row = 1, column = 0) # presents note text to user\n",
    "    customtkinter.CTkLabel(note_window, text = f\"Link: {note.note_link}\", wraplength = 500).grid(padx = 5, pady = 5, row = 2, column = 0) # presents note link to user\n",
    "    customtkinter.CTkLabel(note_window, text = f\"Tag: {note.note_tag}\", wraplength = 500).grid(padx = 5, pady = 5, row = 3, column = 0) # presents note tags to user\n",
    "    customtkinter.CTkLabel(note_window, text = f\"Metadata: {note.note_metadata}\", wraplength = 500).grid(padx = 5, pady = 5, row = 5, column = 0) # presents note metadata to user\n",
    "    customtkinter.CTkLabel(note_window, text = f\"Author: {note.note_author}\", wraplength = 500).grid(padx = 5, pady = 5, row = 4, column = 0) # presents note metadata to user\n",
    "    customtkinter.CTkButton(note_window, text = \"Click to edit note\", command = lambda n = note: snippet_instance.edit_note(n)).grid(padx = 5, pady = 5, row = 6, column = 0)"
   ]
  }
 ],
 "metadata": {
  "kernelspec": {
   "display_name": "Python 3 (ipykernel)",
   "language": "python",
   "name": "python3"
  },
  "language_info": {
   "codemirror_mode": {
    "name": "ipython",
    "version": 3
   },
   "file_extension": ".py",
   "mimetype": "text/x-python",
   "name": "python",
   "nbconvert_exporter": "python",
   "pygments_lexer": "ipython3",
   "version": "3.11.4"
  }
 },
 "nbformat": 4,
 "nbformat_minor": 2
}
